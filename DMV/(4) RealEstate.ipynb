{
 "cells": [
  {
   "cell_type": "markdown",
   "id": "7f96547f-28cb-467d-9e8c-da0a24dc8251",
   "metadata": {},
   "source": [
    "# Problem Statement: Data Wrangling on Real Estate Market\n",
    "● Import the \"RealEstate_Prices.csv\" dataset. \n",
    "\n",
    "● Handle missing values in the dataset, deciding on an appropriate strategy \n",
    "\n",
    "● Filter and subset the data based on specific criteria, such as a particular time period, property type, or location.\n",
    "\n",
    "● Handle categorical variables by encoding them appropriately (e.g., one-hot encoding or label encoding) for further analysis.\n",
    "\n",
    "● Aggregate the data to calculate summary statistics or derived metrics such as average sale prices by neighbourhood or property type.\n",
    "\n",
    "● Identify and handle outliers or extreme values in the data that may affect the analysis or modelling process."
   ]
  },
  {
   "cell_type": "markdown",
   "id": "1504ecf4-abe5-4f8d-bcb9-bbf07ba69c59",
   "metadata": {},
   "source": [
    "# Import the \"RealEstate_Prices.csv\" dataset. "
   ]
  },
  {
   "cell_type": "code",
   "execution_count": 75,
   "id": "21ce2dcc-5b71-4aaa-8b1d-ecb5a63170e2",
   "metadata": {},
   "outputs": [
    {
     "data": {
      "text/html": [
       "<div>\n",
       "<style scoped>\n",
       "    .dataframe tbody tr th:only-of-type {\n",
       "        vertical-align: middle;\n",
       "    }\n",
       "\n",
       "    .dataframe tbody tr th {\n",
       "        vertical-align: top;\n",
       "    }\n",
       "\n",
       "    .dataframe thead th {\n",
       "        text-align: right;\n",
       "    }\n",
       "</style>\n",
       "<table border=\"1\" class=\"dataframe\">\n",
       "  <thead>\n",
       "    <tr style=\"text-align: right;\">\n",
       "      <th></th>\n",
       "      <th>property id</th>\n",
       "      <th>property type</th>\n",
       "      <th>neighborhood</th>\n",
       "      <th>bedrooms</th>\n",
       "      <th>bathrooms</th>\n",
       "      <th>area sq ft</th>\n",
       "      <th>year built</th>\n",
       "      <th>sale price</th>\n",
       "      <th>sale date</th>\n",
       "    </tr>\n",
       "  </thead>\n",
       "  <tbody>\n",
       "    <tr>\n",
       "      <th>0</th>\n",
       "      <td>1001</td>\n",
       "      <td>Apartment</td>\n",
       "      <td>Downtown</td>\n",
       "      <td>3.0</td>\n",
       "      <td>2</td>\n",
       "      <td>1154.0</td>\n",
       "      <td>2001</td>\n",
       "      <td>341218.0</td>\n",
       "      <td>29-09-2020</td>\n",
       "    </tr>\n",
       "    <tr>\n",
       "      <th>1</th>\n",
       "      <td>1002</td>\n",
       "      <td>House</td>\n",
       "      <td>Suburban</td>\n",
       "      <td>4.0</td>\n",
       "      <td>3</td>\n",
       "      <td>2553.0</td>\n",
       "      <td>2014</td>\n",
       "      <td>490564.0</td>\n",
       "      <td>03-04-2021</td>\n",
       "    </tr>\n",
       "    <tr>\n",
       "      <th>2</th>\n",
       "      <td>1003</td>\n",
       "      <td>Condo</td>\n",
       "      <td>Urban</td>\n",
       "      <td>2.0</td>\n",
       "      <td>1</td>\n",
       "      <td>821.0</td>\n",
       "      <td>2008</td>\n",
       "      <td>NaN</td>\n",
       "      <td>15-04-2020</td>\n",
       "    </tr>\n",
       "    <tr>\n",
       "      <th>3</th>\n",
       "      <td>1004</td>\n",
       "      <td>House</td>\n",
       "      <td>Suburban</td>\n",
       "      <td>5.0</td>\n",
       "      <td>4</td>\n",
       "      <td>3018.0</td>\n",
       "      <td>2004</td>\n",
       "      <td>560852.0</td>\n",
       "      <td>25-08-2020</td>\n",
       "    </tr>\n",
       "    <tr>\n",
       "      <th>4</th>\n",
       "      <td>1005</td>\n",
       "      <td>Apartment</td>\n",
       "      <td>Downtown</td>\n",
       "      <td>2.0</td>\n",
       "      <td>1</td>\n",
       "      <td>976.0</td>\n",
       "      <td>2013</td>\n",
       "      <td>297985.0</td>\n",
       "      <td>21-05-2022</td>\n",
       "    </tr>\n",
       "  </tbody>\n",
       "</table>\n",
       "</div>"
      ],
      "text/plain": [
       "   property id property type neighborhood  bedrooms  bathrooms  area sq ft  \\\n",
       "0         1001     Apartment     Downtown       3.0          2      1154.0   \n",
       "1         1002         House     Suburban       4.0          3      2553.0   \n",
       "2         1003         Condo        Urban       2.0          1       821.0   \n",
       "3         1004         House     Suburban       5.0          4      3018.0   \n",
       "4         1005     Apartment     Downtown       2.0          1       976.0   \n",
       "\n",
       "   year built  sale price   sale date  \n",
       "0        2001    341218.0  29-09-2020  \n",
       "1        2014    490564.0  03-04-2021  \n",
       "2        2008         NaN  15-04-2020  \n",
       "3        2004    560852.0  25-08-2020  \n",
       "4        2013    297985.0  21-05-2022  "
      ]
     },
     "execution_count": 75,
     "metadata": {},
     "output_type": "execute_result"
    }
   ],
   "source": [
    "import pandas as pd\n",
    "\n",
    "estate = pd.read_csv('../../Datasets/RealEstate_Prices.csv')\n",
    "estate.head()"
   ]
  },
  {
   "cell_type": "code",
   "execution_count": 76,
   "id": "c81d15e1-2b25-41fd-9b9b-a221cb388161",
   "metadata": {},
   "outputs": [
    {
     "name": "stdout",
     "output_type": "stream",
     "text": [
      "<class 'pandas.core.frame.DataFrame'>\n",
      "RangeIndex: 50 entries, 0 to 49\n",
      "Data columns (total 9 columns):\n",
      " #   Column         Non-Null Count  Dtype  \n",
      "---  ------         --------------  -----  \n",
      " 0   property id    50 non-null     int64  \n",
      " 1   property type  50 non-null     object \n",
      " 2   neighborhood   50 non-null     object \n",
      " 3   bedrooms       45 non-null     float64\n",
      " 4   bathrooms      50 non-null     int64  \n",
      " 5   area sq ft     48 non-null     float64\n",
      " 6   year built     50 non-null     int64  \n",
      " 7   sale price     45 non-null     float64\n",
      " 8   sale date      50 non-null     object \n",
      "dtypes: float64(3), int64(3), object(3)\n",
      "memory usage: 3.6+ KB\n"
     ]
    }
   ],
   "source": [
    "estate.info()"
   ]
  },
  {
   "cell_type": "markdown",
   "id": "39adbe5b-c92a-4314-9eb3-8ea949f309d3",
   "metadata": {},
   "source": [
    "# Handle missing values in the dataset, deciding on an appropriate strategy "
   ]
  },
  {
   "cell_type": "code",
   "execution_count": 77,
   "id": "1a09ba07-47c2-44aa-be52-024cb897b59d",
   "metadata": {},
   "outputs": [
    {
     "data": {
      "text/plain": [
       "property id      0\n",
       "property type    0\n",
       "neighborhood     0\n",
       "bedrooms         5\n",
       "bathrooms        0\n",
       "area sq ft       2\n",
       "year built       0\n",
       "sale price       5\n",
       "sale date        0\n",
       "dtype: int64"
      ]
     },
     "execution_count": 77,
     "metadata": {},
     "output_type": "execute_result"
    }
   ],
   "source": [
    "estate.isna().sum()"
   ]
  },
  {
   "cell_type": "code",
   "execution_count": 79,
   "id": "2451595b-b7ed-4a66-9408-6168ee12cece",
   "metadata": {},
   "outputs": [],
   "source": [
    "num_cols = []\n",
    "categorical_cols = []\n",
    "for idx,val in estate.isna().sum().items():\n",
    "    if val>0:\n",
    "        if len(estate[idx].value_counts()) > 10:\n",
    "            num_cols.append(idx)\n",
    "        else:\n",
    "            categorical_cols.append(idx)"
   ]
  },
  {
   "cell_type": "code",
   "execution_count": 80,
   "id": "6769f142-eaef-4610-9f38-b721dc4d1ee5",
   "metadata": {},
   "outputs": [
    {
     "data": {
      "text/plain": [
       "['area sq ft', 'sale price']"
      ]
     },
     "execution_count": 80,
     "metadata": {},
     "output_type": "execute_result"
    }
   ],
   "source": [
    "num_cols"
   ]
  },
  {
   "cell_type": "code",
   "execution_count": 81,
   "id": "3fcd6d6a-2779-4530-90f0-3ee0bfc30e44",
   "metadata": {},
   "outputs": [
    {
     "data": {
      "text/plain": [
       "['bedrooms']"
      ]
     },
     "execution_count": 81,
     "metadata": {},
     "output_type": "execute_result"
    }
   ],
   "source": [
    "categorical_cols"
   ]
  },
  {
   "cell_type": "code",
   "execution_count": 82,
   "id": "a1109134-0246-41af-90d2-d7f756f282e6",
   "metadata": {},
   "outputs": [],
   "source": [
    "for col in num_cols:\n",
    "    mean = estate[col].mean()\n",
    "    estate[col] = estate[col].fillna(mean)\n",
    "\n",
    "for col in categorical_cols:\n",
    "    mode = estate[col].mode()[0]\n",
    "    estate[col] = estate[col].fillna(mode)"
   ]
  },
  {
   "cell_type": "markdown",
   "id": "fb4c9465-ec39-4859-be77-4f90f0b48b90",
   "metadata": {},
   "source": [
    "# Filter and subset the data based on specific criteria, such as a particular time period, property type, or location."
   ]
  },
  {
   "cell_type": "code",
   "execution_count": 83,
   "id": "9ea8109d-51c1-4f5f-9e73-c115d6351894",
   "metadata": {},
   "outputs": [],
   "source": [
    "estate['sale date'] = pd.to_datetime(estate['sale date'],dayfirst=True)"
   ]
  },
  {
   "cell_type": "code",
   "execution_count": 84,
   "id": "17afbc03-6ad5-435f-b14d-925d45df916f",
   "metadata": {},
   "outputs": [
    {
     "data": {
      "text/html": [
       "<div>\n",
       "<style scoped>\n",
       "    .dataframe tbody tr th:only-of-type {\n",
       "        vertical-align: middle;\n",
       "    }\n",
       "\n",
       "    .dataframe tbody tr th {\n",
       "        vertical-align: top;\n",
       "    }\n",
       "\n",
       "    .dataframe thead th {\n",
       "        text-align: right;\n",
       "    }\n",
       "</style>\n",
       "<table border=\"1\" class=\"dataframe\">\n",
       "  <thead>\n",
       "    <tr style=\"text-align: right;\">\n",
       "      <th></th>\n",
       "      <th>property id</th>\n",
       "      <th>property type</th>\n",
       "      <th>neighborhood</th>\n",
       "      <th>bedrooms</th>\n",
       "      <th>bathrooms</th>\n",
       "      <th>area sq ft</th>\n",
       "      <th>year built</th>\n",
       "      <th>sale price</th>\n",
       "      <th>sale date</th>\n",
       "    </tr>\n",
       "  </thead>\n",
       "  <tbody>\n",
       "    <tr>\n",
       "      <th>4</th>\n",
       "      <td>1005</td>\n",
       "      <td>Apartment</td>\n",
       "      <td>Downtown</td>\n",
       "      <td>2.0</td>\n",
       "      <td>1</td>\n",
       "      <td>976.0</td>\n",
       "      <td>2013</td>\n",
       "      <td>297985.0</td>\n",
       "      <td>2022-05-21</td>\n",
       "    </tr>\n",
       "    <tr>\n",
       "      <th>7</th>\n",
       "      <td>1008</td>\n",
       "      <td>Apartment</td>\n",
       "      <td>Suburban</td>\n",
       "      <td>2.0</td>\n",
       "      <td>1</td>\n",
       "      <td>695.0</td>\n",
       "      <td>2022</td>\n",
       "      <td>193182.0</td>\n",
       "      <td>2022-02-03</td>\n",
       "    </tr>\n",
       "    <tr>\n",
       "      <th>14</th>\n",
       "      <td>1015</td>\n",
       "      <td>Apartment</td>\n",
       "      <td>Downtown</td>\n",
       "      <td>2.0</td>\n",
       "      <td>1</td>\n",
       "      <td>989.0</td>\n",
       "      <td>2018</td>\n",
       "      <td>299637.0</td>\n",
       "      <td>2022-11-16</td>\n",
       "    </tr>\n",
       "    <tr>\n",
       "      <th>24</th>\n",
       "      <td>1025</td>\n",
       "      <td>Apartment</td>\n",
       "      <td>Downtown</td>\n",
       "      <td>2.0</td>\n",
       "      <td>1</td>\n",
       "      <td>963.0</td>\n",
       "      <td>2012</td>\n",
       "      <td>317188.0</td>\n",
       "      <td>2023-04-09</td>\n",
       "    </tr>\n",
       "    <tr>\n",
       "      <th>34</th>\n",
       "      <td>1035</td>\n",
       "      <td>Apartment</td>\n",
       "      <td>Downtown</td>\n",
       "      <td>2.0</td>\n",
       "      <td>1</td>\n",
       "      <td>924.0</td>\n",
       "      <td>2018</td>\n",
       "      <td>349800.0</td>\n",
       "      <td>2022-12-30</td>\n",
       "    </tr>\n",
       "    <tr>\n",
       "      <th>44</th>\n",
       "      <td>1045</td>\n",
       "      <td>Apartment</td>\n",
       "      <td>Downtown</td>\n",
       "      <td>2.0</td>\n",
       "      <td>1</td>\n",
       "      <td>992.0</td>\n",
       "      <td>2012</td>\n",
       "      <td>304562.0</td>\n",
       "      <td>2022-04-13</td>\n",
       "    </tr>\n",
       "  </tbody>\n",
       "</table>\n",
       "</div>"
      ],
      "text/plain": [
       "    property id property type neighborhood  bedrooms  bathrooms  area sq ft  \\\n",
       "4          1005     Apartment     Downtown       2.0          1       976.0   \n",
       "7          1008     Apartment     Suburban       2.0          1       695.0   \n",
       "14         1015     Apartment     Downtown       2.0          1       989.0   \n",
       "24         1025     Apartment     Downtown       2.0          1       963.0   \n",
       "34         1035     Apartment     Downtown       2.0          1       924.0   \n",
       "44         1045     Apartment     Downtown       2.0          1       992.0   \n",
       "\n",
       "    year built  sale price  sale date  \n",
       "4         2013    297985.0 2022-05-21  \n",
       "7         2022    193182.0 2022-02-03  \n",
       "14        2018    299637.0 2022-11-16  \n",
       "24        2012    317188.0 2023-04-09  \n",
       "34        2018    349800.0 2022-12-30  \n",
       "44        2012    304562.0 2022-04-13  "
      ]
     },
     "execution_count": 84,
     "metadata": {},
     "output_type": "execute_result"
    }
   ],
   "source": [
    "estate[(estate['sale date'] > \"01-01-2022\") & (estate['property type']=='Apartment')]"
   ]
  },
  {
   "cell_type": "markdown",
   "id": "34269f8e-42ca-4016-aaf6-886762a8e664",
   "metadata": {},
   "source": [
    "# Handle categorical variables by encoding them appropriately (e.g., one-hot encoding or label encoding) for further analysis."
   ]
  },
  {
   "cell_type": "code",
   "execution_count": 85,
   "id": "1dd4b4fb-7ef1-4e5e-9eed-116e5e61f33e",
   "metadata": {},
   "outputs": [],
   "source": [
    "from sklearn.preprocessing import LabelEncoder\n",
    "enc = LabelEncoder()\n",
    "estate['property type'] = enc.fit_transform(estate['property type'])\n",
    "estate['neighborhood'] = enc.fit_transform(estate['neighborhood'])"
   ]
  },
  {
   "cell_type": "code",
   "execution_count": 86,
   "id": "6b0442c8-7dc1-4fa2-9cbb-29a49839aae8",
   "metadata": {},
   "outputs": [
    {
     "data": {
      "text/html": [
       "<div>\n",
       "<style scoped>\n",
       "    .dataframe tbody tr th:only-of-type {\n",
       "        vertical-align: middle;\n",
       "    }\n",
       "\n",
       "    .dataframe tbody tr th {\n",
       "        vertical-align: top;\n",
       "    }\n",
       "\n",
       "    .dataframe thead th {\n",
       "        text-align: right;\n",
       "    }\n",
       "</style>\n",
       "<table border=\"1\" class=\"dataframe\">\n",
       "  <thead>\n",
       "    <tr style=\"text-align: right;\">\n",
       "      <th></th>\n",
       "      <th>property id</th>\n",
       "      <th>property type</th>\n",
       "      <th>neighborhood</th>\n",
       "      <th>bedrooms</th>\n",
       "      <th>bathrooms</th>\n",
       "      <th>area sq ft</th>\n",
       "      <th>year built</th>\n",
       "      <th>sale price</th>\n",
       "      <th>sale date</th>\n",
       "    </tr>\n",
       "  </thead>\n",
       "  <tbody>\n",
       "    <tr>\n",
       "      <th>0</th>\n",
       "      <td>1001</td>\n",
       "      <td>0</td>\n",
       "      <td>0</td>\n",
       "      <td>3.0</td>\n",
       "      <td>2</td>\n",
       "      <td>1154.0</td>\n",
       "      <td>2001</td>\n",
       "      <td>341218.000000</td>\n",
       "      <td>2020-09-29</td>\n",
       "    </tr>\n",
       "    <tr>\n",
       "      <th>1</th>\n",
       "      <td>1002</td>\n",
       "      <td>2</td>\n",
       "      <td>2</td>\n",
       "      <td>4.0</td>\n",
       "      <td>3</td>\n",
       "      <td>2553.0</td>\n",
       "      <td>2014</td>\n",
       "      <td>490564.000000</td>\n",
       "      <td>2021-04-03</td>\n",
       "    </tr>\n",
       "    <tr>\n",
       "      <th>2</th>\n",
       "      <td>1003</td>\n",
       "      <td>1</td>\n",
       "      <td>3</td>\n",
       "      <td>2.0</td>\n",
       "      <td>1</td>\n",
       "      <td>821.0</td>\n",
       "      <td>2008</td>\n",
       "      <td>488715.466667</td>\n",
       "      <td>2020-04-15</td>\n",
       "    </tr>\n",
       "    <tr>\n",
       "      <th>3</th>\n",
       "      <td>1004</td>\n",
       "      <td>2</td>\n",
       "      <td>2</td>\n",
       "      <td>5.0</td>\n",
       "      <td>4</td>\n",
       "      <td>3018.0</td>\n",
       "      <td>2004</td>\n",
       "      <td>560852.000000</td>\n",
       "      <td>2020-08-25</td>\n",
       "    </tr>\n",
       "    <tr>\n",
       "      <th>4</th>\n",
       "      <td>1005</td>\n",
       "      <td>0</td>\n",
       "      <td>0</td>\n",
       "      <td>2.0</td>\n",
       "      <td>1</td>\n",
       "      <td>976.0</td>\n",
       "      <td>2013</td>\n",
       "      <td>297985.000000</td>\n",
       "      <td>2022-05-21</td>\n",
       "    </tr>\n",
       "  </tbody>\n",
       "</table>\n",
       "</div>"
      ],
      "text/plain": [
       "   property id  property type  neighborhood  bedrooms  bathrooms  area sq ft  \\\n",
       "0         1001              0             0       3.0          2      1154.0   \n",
       "1         1002              2             2       4.0          3      2553.0   \n",
       "2         1003              1             3       2.0          1       821.0   \n",
       "3         1004              2             2       5.0          4      3018.0   \n",
       "4         1005              0             0       2.0          1       976.0   \n",
       "\n",
       "   year built     sale price  sale date  \n",
       "0        2001  341218.000000 2020-09-29  \n",
       "1        2014  490564.000000 2021-04-03  \n",
       "2        2008  488715.466667 2020-04-15  \n",
       "3        2004  560852.000000 2020-08-25  \n",
       "4        2013  297985.000000 2022-05-21  "
      ]
     },
     "execution_count": 86,
     "metadata": {},
     "output_type": "execute_result"
    }
   ],
   "source": [
    "estate.head()"
   ]
  },
  {
   "cell_type": "markdown",
   "id": "98aacf15-babb-4d9d-9741-612a40a2930c",
   "metadata": {},
   "source": [
    "# Aggregate the data to calculate summary statistics or derived metrics such as average sale prices by neighbourhood or property type."
   ]
  },
  {
   "cell_type": "code",
   "execution_count": 87,
   "id": "632356d2-e7b8-4d01-81fe-a51f74a3e91b",
   "metadata": {},
   "outputs": [
    {
     "data": {
      "text/html": [
       "<div>\n",
       "<style scoped>\n",
       "    .dataframe tbody tr th:only-of-type {\n",
       "        vertical-align: middle;\n",
       "    }\n",
       "\n",
       "    .dataframe tbody tr th {\n",
       "        vertical-align: top;\n",
       "    }\n",
       "\n",
       "    .dataframe thead th {\n",
       "        text-align: right;\n",
       "    }\n",
       "</style>\n",
       "<table border=\"1\" class=\"dataframe\">\n",
       "  <thead>\n",
       "    <tr style=\"text-align: right;\">\n",
       "      <th></th>\n",
       "      <th>sale price</th>\n",
       "    </tr>\n",
       "    <tr>\n",
       "      <th>neighborhood</th>\n",
       "      <th></th>\n",
       "    </tr>\n",
       "  </thead>\n",
       "  <tbody>\n",
       "    <tr>\n",
       "      <th>0</th>\n",
       "      <td>317621.200000</td>\n",
       "    </tr>\n",
       "    <tr>\n",
       "      <th>1</th>\n",
       "      <td>568279.800000</td>\n",
       "    </tr>\n",
       "    <tr>\n",
       "      <th>2</th>\n",
       "      <td>418178.050000</td>\n",
       "    </tr>\n",
       "    <tr>\n",
       "      <th>3</th>\n",
       "      <td>846649.533333</td>\n",
       "    </tr>\n",
       "  </tbody>\n",
       "</table>\n",
       "</div>"
      ],
      "text/plain": [
       "                 sale price\n",
       "neighborhood               \n",
       "0             317621.200000\n",
       "1             568279.800000\n",
       "2             418178.050000\n",
       "3             846649.533333"
      ]
     },
     "execution_count": 87,
     "metadata": {},
     "output_type": "execute_result"
    }
   ],
   "source": [
    "estate.groupby('neighborhood').agg({'sale price':'mean'})"
   ]
  },
  {
   "cell_type": "code",
   "execution_count": 88,
   "id": "2033c736-9882-4e86-b13b-c05ff94c1c84",
   "metadata": {},
   "outputs": [
    {
     "data": {
      "text/plain": [
       "array(['Downtown', 'Rural', 'Suburban', 'Urban'], dtype=object)"
      ]
     },
     "execution_count": 88,
     "metadata": {},
     "output_type": "execute_result"
    }
   ],
   "source": [
    "enc.classes_"
   ]
  },
  {
   "cell_type": "markdown",
   "id": "02af75ee-5154-4f81-822b-4bbd3aa1206d",
   "metadata": {},
   "source": [
    "# Identify and handle outliers or extreme values in the data that may affect the analysis or modelling process."
   ]
  },
  {
   "cell_type": "code",
   "execution_count": 89,
   "id": "4ce764f0-c519-450a-8809-06fbc07a837b",
   "metadata": {},
   "outputs": [],
   "source": [
    "threashold = 3 * estate['sale price'].std()"
   ]
  },
  {
   "cell_type": "code",
   "execution_count": 90,
   "id": "88f3e616-ad8b-45e5-81b4-7b20fb383e47",
   "metadata": {},
   "outputs": [
    {
     "data": {
      "text/html": [
       "<div>\n",
       "<style scoped>\n",
       "    .dataframe tbody tr th:only-of-type {\n",
       "        vertical-align: middle;\n",
       "    }\n",
       "\n",
       "    .dataframe tbody tr th {\n",
       "        vertical-align: top;\n",
       "    }\n",
       "\n",
       "    .dataframe thead th {\n",
       "        text-align: right;\n",
       "    }\n",
       "</style>\n",
       "<table border=\"1\" class=\"dataframe\">\n",
       "  <thead>\n",
       "    <tr style=\"text-align: right;\">\n",
       "      <th></th>\n",
       "      <th>property id</th>\n",
       "      <th>property type</th>\n",
       "      <th>neighborhood</th>\n",
       "      <th>bedrooms</th>\n",
       "      <th>bathrooms</th>\n",
       "      <th>area sq ft</th>\n",
       "      <th>year built</th>\n",
       "      <th>sale price</th>\n",
       "      <th>sale date</th>\n",
       "    </tr>\n",
       "  </thead>\n",
       "  <tbody>\n",
       "    <tr>\n",
       "      <th>5</th>\n",
       "      <td>1006</td>\n",
       "      <td>1</td>\n",
       "      <td>3</td>\n",
       "      <td>3.0</td>\n",
       "      <td>2</td>\n",
       "      <td>1399.0</td>\n",
       "      <td>2020</td>\n",
       "      <td>1117439.0</td>\n",
       "      <td>2020-05-09</td>\n",
       "    </tr>\n",
       "    <tr>\n",
       "      <th>15</th>\n",
       "      <td>1016</td>\n",
       "      <td>1</td>\n",
       "      <td>3</td>\n",
       "      <td>3.0</td>\n",
       "      <td>2</td>\n",
       "      <td>1365.0</td>\n",
       "      <td>2021</td>\n",
       "      <td>1124017.0</td>\n",
       "      <td>2020-08-29</td>\n",
       "    </tr>\n",
       "    <tr>\n",
       "      <th>25</th>\n",
       "      <td>1026</td>\n",
       "      <td>1</td>\n",
       "      <td>3</td>\n",
       "      <td>3.0</td>\n",
       "      <td>2</td>\n",
       "      <td>1452.0</td>\n",
       "      <td>2013</td>\n",
       "      <td>1268442.0</td>\n",
       "      <td>2021-03-08</td>\n",
       "    </tr>\n",
       "    <tr>\n",
       "      <th>35</th>\n",
       "      <td>1036</td>\n",
       "      <td>1</td>\n",
       "      <td>3</td>\n",
       "      <td>3.0</td>\n",
       "      <td>2</td>\n",
       "      <td>1390.0</td>\n",
       "      <td>2019</td>\n",
       "      <td>1274015.0</td>\n",
       "      <td>2020-08-02</td>\n",
       "    </tr>\n",
       "    <tr>\n",
       "      <th>45</th>\n",
       "      <td>1046</td>\n",
       "      <td>1</td>\n",
       "      <td>3</td>\n",
       "      <td>3.0</td>\n",
       "      <td>2</td>\n",
       "      <td>20003.0</td>\n",
       "      <td>2020</td>\n",
       "      <td>1239005.0</td>\n",
       "      <td>2021-11-07</td>\n",
       "    </tr>\n",
       "  </tbody>\n",
       "</table>\n",
       "</div>"
      ],
      "text/plain": [
       "    property id  property type  neighborhood  bedrooms  bathrooms  area sq ft  \\\n",
       "5          1006              1             3       3.0          2      1399.0   \n",
       "15         1016              1             3       3.0          2      1365.0   \n",
       "25         1026              1             3       3.0          2      1452.0   \n",
       "35         1036              1             3       3.0          2      1390.0   \n",
       "45         1046              1             3       3.0          2     20003.0   \n",
       "\n",
       "    year built  sale price  sale date  \n",
       "5         2020   1117439.0 2020-05-09  \n",
       "15        2021   1124017.0 2020-08-29  \n",
       "25        2013   1268442.0 2021-03-08  \n",
       "35        2019   1274015.0 2020-08-02  \n",
       "45        2020   1239005.0 2021-11-07  "
      ]
     },
     "execution_count": 90,
     "metadata": {},
     "output_type": "execute_result"
    }
   ],
   "source": [
    "outliers = estate[(estate['sale price'] > threashold) | (estate['sale price'] < -threashold)]\n",
    "outliers"
   ]
  },
  {
   "cell_type": "code",
   "execution_count": 91,
   "id": "23c17c86-d22e-4efd-8706-7021abc0e3a9",
   "metadata": {},
   "outputs": [
    {
     "data": {
      "text/plain": [
       "(45, 9)"
      ]
     },
     "execution_count": 91,
     "metadata": {},
     "output_type": "execute_result"
    }
   ],
   "source": [
    "estate = estate[(estate['sale price'] < threashold) & (estate['sale price'] > -threashold)]\n",
    "estate.shape"
   ]
  },
  {
   "cell_type": "code",
   "execution_count": null,
   "id": "5719eac7-5aa8-4f42-84b9-5febb2c6d56d",
   "metadata": {},
   "outputs": [],
   "source": []
  }
 ],
 "metadata": {
  "kernelspec": {
   "display_name": "Python 3 (ipykernel)",
   "language": "python",
   "name": "python3"
  },
  "language_info": {
   "codemirror_mode": {
    "name": "ipython",
    "version": 3
   },
   "file_extension": ".py",
   "mimetype": "text/x-python",
   "name": "python",
   "nbconvert_exporter": "python",
   "pygments_lexer": "ipython3",
   "version": "3.12.1"
  }
 },
 "nbformat": 4,
 "nbformat_minor": 5
}
